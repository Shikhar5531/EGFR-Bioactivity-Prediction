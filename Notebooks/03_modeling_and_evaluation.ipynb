{
  "nbformat": 4,
  "nbformat_minor": 0,
  "metadata": {
    "colab": {
      "provenance": []
    },
    "kernelspec": {
      "name": "python3",
      "display_name": "Python 3"
    },
    "language_info": {
      "name": "python"
    }
  },
  "cells": [
    {
      "cell_type": "markdown",
      "source": [
        "In this final notebook for this project, I will be building the model and evaluating it's performance."
      ],
      "metadata": {
        "id": "uHK-AXpnAN9w"
      }
    },
    {
      "cell_type": "markdown",
      "source": [
        "#Importing Libraries"
      ],
      "metadata": {
        "id": "w_lCG0-0AWYb"
      }
    },
    {
      "cell_type": "code",
      "execution_count": null,
      "metadata": {
        "id": "GTC6dzbZKctf"
      },
      "outputs": [],
      "source": [
        "import pandas as pd\n",
        "import numpy as np"
      ]
    },
    {
      "cell_type": "markdown",
      "source": [
        "#Retrieving Data"
      ],
      "metadata": {
        "id": "O7Mx3gRTAY99"
      }
    },
    {
      "cell_type": "code",
      "source": [
        "df = pd.read_csv(\"final_bioactivity_data.csv\")"
      ],
      "metadata": {
        "id": "RVNqErcwMu9Y"
      },
      "execution_count": null,
      "outputs": []
    },
    {
      "cell_type": "code",
      "source": [
        "df.head()"
      ],
      "metadata": {
        "colab": {
          "base_uri": "https://localhost:8080/",
          "height": 236
        },
        "id": "yBm7bIbITYUM",
        "outputId": "aaf80057-76eb-47bc-fbd3-5bf88d5472c7"
      },
      "execution_count": null,
      "outputs": [
        {
          "output_type": "execute_result",
          "data": {
            "text/plain": [
              "        MW     LogP  NumHDonors  NumHAcceptors  fp_0  fp_1  fp_2  fp_3  fp_4  \\\n",
              "0  383.814  4.45034         3.0            4.0   0.0   0.0   0.0   0.0   0.0   \n",
              "1  482.903  3.61432         3.0            6.0   0.0   0.0   0.0   0.0   0.0   \n",
              "2  283.287  2.31056         2.0            4.0   0.0   0.0   0.0   0.0   0.0   \n",
              "3  164.160  1.49000         2.0            2.0   0.0   0.0   0.0   0.0   0.0   \n",
              "4  215.168  1.73096         1.0            5.0   0.0   0.0   0.0   0.0   0.0   \n",
              "\n",
              "   fp_5  ...  fp_1015  fp_1016  fp_1017  fp_1018  fp_1019  fp_1020  fp_1021  \\\n",
              "0   0.0  ...      0.0      0.0      0.0      0.0      0.0      0.0      0.0   \n",
              "1   0.0  ...      0.0      0.0      0.0      0.0      0.0      0.0      0.0   \n",
              "2   0.0  ...      0.0      0.0      1.0      0.0      0.0      0.0      0.0   \n",
              "3   0.0  ...      0.0      0.0      0.0      0.0      0.0      0.0      0.0   \n",
              "4   0.0  ...      0.0      0.0      0.0      0.0      0.0      0.0      0.0   \n",
              "\n",
              "   fp_1022  fp_1023  bioactivity_class  \n",
              "0      0.0      1.0                  1  \n",
              "1      0.0      0.0                  1  \n",
              "2      0.0      0.0                  0  \n",
              "3      0.0      0.0                  0  \n",
              "4      0.0      0.0                  0  \n",
              "\n",
              "[5 rows x 1029 columns]"
            ],
            "text/html": [
              "\n",
              "  <div id=\"df-a4b2f0f9-80e7-4909-9b04-a423d5fb7317\" class=\"colab-df-container\">\n",
              "    <div>\n",
              "<style scoped>\n",
              "    .dataframe tbody tr th:only-of-type {\n",
              "        vertical-align: middle;\n",
              "    }\n",
              "\n",
              "    .dataframe tbody tr th {\n",
              "        vertical-align: top;\n",
              "    }\n",
              "\n",
              "    .dataframe thead th {\n",
              "        text-align: right;\n",
              "    }\n",
              "</style>\n",
              "<table border=\"1\" class=\"dataframe\">\n",
              "  <thead>\n",
              "    <tr style=\"text-align: right;\">\n",
              "      <th></th>\n",
              "      <th>MW</th>\n",
              "      <th>LogP</th>\n",
              "      <th>NumHDonors</th>\n",
              "      <th>NumHAcceptors</th>\n",
              "      <th>fp_0</th>\n",
              "      <th>fp_1</th>\n",
              "      <th>fp_2</th>\n",
              "      <th>fp_3</th>\n",
              "      <th>fp_4</th>\n",
              "      <th>fp_5</th>\n",
              "      <th>...</th>\n",
              "      <th>fp_1015</th>\n",
              "      <th>fp_1016</th>\n",
              "      <th>fp_1017</th>\n",
              "      <th>fp_1018</th>\n",
              "      <th>fp_1019</th>\n",
              "      <th>fp_1020</th>\n",
              "      <th>fp_1021</th>\n",
              "      <th>fp_1022</th>\n",
              "      <th>fp_1023</th>\n",
              "      <th>bioactivity_class</th>\n",
              "    </tr>\n",
              "  </thead>\n",
              "  <tbody>\n",
              "    <tr>\n",
              "      <th>0</th>\n",
              "      <td>383.814</td>\n",
              "      <td>4.45034</td>\n",
              "      <td>3.0</td>\n",
              "      <td>4.0</td>\n",
              "      <td>0.0</td>\n",
              "      <td>0.0</td>\n",
              "      <td>0.0</td>\n",
              "      <td>0.0</td>\n",
              "      <td>0.0</td>\n",
              "      <td>0.0</td>\n",
              "      <td>...</td>\n",
              "      <td>0.0</td>\n",
              "      <td>0.0</td>\n",
              "      <td>0.0</td>\n",
              "      <td>0.0</td>\n",
              "      <td>0.0</td>\n",
              "      <td>0.0</td>\n",
              "      <td>0.0</td>\n",
              "      <td>0.0</td>\n",
              "      <td>1.0</td>\n",
              "      <td>1</td>\n",
              "    </tr>\n",
              "    <tr>\n",
              "      <th>1</th>\n",
              "      <td>482.903</td>\n",
              "      <td>3.61432</td>\n",
              "      <td>3.0</td>\n",
              "      <td>6.0</td>\n",
              "      <td>0.0</td>\n",
              "      <td>0.0</td>\n",
              "      <td>0.0</td>\n",
              "      <td>0.0</td>\n",
              "      <td>0.0</td>\n",
              "      <td>0.0</td>\n",
              "      <td>...</td>\n",
              "      <td>0.0</td>\n",
              "      <td>0.0</td>\n",
              "      <td>0.0</td>\n",
              "      <td>0.0</td>\n",
              "      <td>0.0</td>\n",
              "      <td>0.0</td>\n",
              "      <td>0.0</td>\n",
              "      <td>0.0</td>\n",
              "      <td>0.0</td>\n",
              "      <td>1</td>\n",
              "    </tr>\n",
              "    <tr>\n",
              "      <th>2</th>\n",
              "      <td>283.287</td>\n",
              "      <td>2.31056</td>\n",
              "      <td>2.0</td>\n",
              "      <td>4.0</td>\n",
              "      <td>0.0</td>\n",
              "      <td>0.0</td>\n",
              "      <td>0.0</td>\n",
              "      <td>0.0</td>\n",
              "      <td>0.0</td>\n",
              "      <td>0.0</td>\n",
              "      <td>...</td>\n",
              "      <td>0.0</td>\n",
              "      <td>0.0</td>\n",
              "      <td>1.0</td>\n",
              "      <td>0.0</td>\n",
              "      <td>0.0</td>\n",
              "      <td>0.0</td>\n",
              "      <td>0.0</td>\n",
              "      <td>0.0</td>\n",
              "      <td>0.0</td>\n",
              "      <td>0</td>\n",
              "    </tr>\n",
              "    <tr>\n",
              "      <th>3</th>\n",
              "      <td>164.160</td>\n",
              "      <td>1.49000</td>\n",
              "      <td>2.0</td>\n",
              "      <td>2.0</td>\n",
              "      <td>0.0</td>\n",
              "      <td>0.0</td>\n",
              "      <td>0.0</td>\n",
              "      <td>0.0</td>\n",
              "      <td>0.0</td>\n",
              "      <td>0.0</td>\n",
              "      <td>...</td>\n",
              "      <td>0.0</td>\n",
              "      <td>0.0</td>\n",
              "      <td>0.0</td>\n",
              "      <td>0.0</td>\n",
              "      <td>0.0</td>\n",
              "      <td>0.0</td>\n",
              "      <td>0.0</td>\n",
              "      <td>0.0</td>\n",
              "      <td>0.0</td>\n",
              "      <td>0</td>\n",
              "    </tr>\n",
              "    <tr>\n",
              "      <th>4</th>\n",
              "      <td>215.168</td>\n",
              "      <td>1.73096</td>\n",
              "      <td>1.0</td>\n",
              "      <td>5.0</td>\n",
              "      <td>0.0</td>\n",
              "      <td>0.0</td>\n",
              "      <td>0.0</td>\n",
              "      <td>0.0</td>\n",
              "      <td>0.0</td>\n",
              "      <td>0.0</td>\n",
              "      <td>...</td>\n",
              "      <td>0.0</td>\n",
              "      <td>0.0</td>\n",
              "      <td>0.0</td>\n",
              "      <td>0.0</td>\n",
              "      <td>0.0</td>\n",
              "      <td>0.0</td>\n",
              "      <td>0.0</td>\n",
              "      <td>0.0</td>\n",
              "      <td>0.0</td>\n",
              "      <td>0</td>\n",
              "    </tr>\n",
              "  </tbody>\n",
              "</table>\n",
              "<p>5 rows × 1029 columns</p>\n",
              "</div>\n",
              "    <div class=\"colab-df-buttons\">\n",
              "\n",
              "  <div class=\"colab-df-container\">\n",
              "    <button class=\"colab-df-convert\" onclick=\"convertToInteractive('df-a4b2f0f9-80e7-4909-9b04-a423d5fb7317')\"\n",
              "            title=\"Convert this dataframe to an interactive table.\"\n",
              "            style=\"display:none;\">\n",
              "\n",
              "  <svg xmlns=\"http://www.w3.org/2000/svg\" height=\"24px\" viewBox=\"0 -960 960 960\">\n",
              "    <path d=\"M120-120v-720h720v720H120Zm60-500h600v-160H180v160Zm220 220h160v-160H400v160Zm0 220h160v-160H400v160ZM180-400h160v-160H180v160Zm440 0h160v-160H620v160ZM180-180h160v-160H180v160Zm440 0h160v-160H620v160Z\"/>\n",
              "  </svg>\n",
              "    </button>\n",
              "\n",
              "  <style>\n",
              "    .colab-df-container {\n",
              "      display:flex;\n",
              "      gap: 12px;\n",
              "    }\n",
              "\n",
              "    .colab-df-convert {\n",
              "      background-color: #E8F0FE;\n",
              "      border: none;\n",
              "      border-radius: 50%;\n",
              "      cursor: pointer;\n",
              "      display: none;\n",
              "      fill: #1967D2;\n",
              "      height: 32px;\n",
              "      padding: 0 0 0 0;\n",
              "      width: 32px;\n",
              "    }\n",
              "\n",
              "    .colab-df-convert:hover {\n",
              "      background-color: #E2EBFA;\n",
              "      box-shadow: 0px 1px 2px rgba(60, 64, 67, 0.3), 0px 1px 3px 1px rgba(60, 64, 67, 0.15);\n",
              "      fill: #174EA6;\n",
              "    }\n",
              "\n",
              "    .colab-df-buttons div {\n",
              "      margin-bottom: 4px;\n",
              "    }\n",
              "\n",
              "    [theme=dark] .colab-df-convert {\n",
              "      background-color: #3B4455;\n",
              "      fill: #D2E3FC;\n",
              "    }\n",
              "\n",
              "    [theme=dark] .colab-df-convert:hover {\n",
              "      background-color: #434B5C;\n",
              "      box-shadow: 0px 1px 3px 1px rgba(0, 0, 0, 0.15);\n",
              "      filter: drop-shadow(0px 1px 2px rgba(0, 0, 0, 0.3));\n",
              "      fill: #FFFFFF;\n",
              "    }\n",
              "  </style>\n",
              "\n",
              "    <script>\n",
              "      const buttonEl =\n",
              "        document.querySelector('#df-a4b2f0f9-80e7-4909-9b04-a423d5fb7317 button.colab-df-convert');\n",
              "      buttonEl.style.display =\n",
              "        google.colab.kernel.accessAllowed ? 'block' : 'none';\n",
              "\n",
              "      async function convertToInteractive(key) {\n",
              "        const element = document.querySelector('#df-a4b2f0f9-80e7-4909-9b04-a423d5fb7317');\n",
              "        const dataTable =\n",
              "          await google.colab.kernel.invokeFunction('convertToInteractive',\n",
              "                                                    [key], {});\n",
              "        if (!dataTable) return;\n",
              "\n",
              "        const docLinkHtml = 'Like what you see? Visit the ' +\n",
              "          '<a target=\"_blank\" href=https://colab.research.google.com/notebooks/data_table.ipynb>data table notebook</a>'\n",
              "          + ' to learn more about interactive tables.';\n",
              "        element.innerHTML = '';\n",
              "        dataTable['output_type'] = 'display_data';\n",
              "        await google.colab.output.renderOutput(dataTable, element);\n",
              "        const docLink = document.createElement('div');\n",
              "        docLink.innerHTML = docLinkHtml;\n",
              "        element.appendChild(docLink);\n",
              "      }\n",
              "    </script>\n",
              "  </div>\n",
              "\n",
              "\n",
              "    <div id=\"df-4db6879e-e29e-460c-a9b2-38cc219b847c\">\n",
              "      <button class=\"colab-df-quickchart\" onclick=\"quickchart('df-4db6879e-e29e-460c-a9b2-38cc219b847c')\"\n",
              "                title=\"Suggest charts\"\n",
              "                style=\"display:none;\">\n",
              "\n",
              "<svg xmlns=\"http://www.w3.org/2000/svg\" height=\"24px\"viewBox=\"0 0 24 24\"\n",
              "     width=\"24px\">\n",
              "    <g>\n",
              "        <path d=\"M19 3H5c-1.1 0-2 .9-2 2v14c0 1.1.9 2 2 2h14c1.1 0 2-.9 2-2V5c0-1.1-.9-2-2-2zM9 17H7v-7h2v7zm4 0h-2V7h2v10zm4 0h-2v-4h2v4z\"/>\n",
              "    </g>\n",
              "</svg>\n",
              "      </button>\n",
              "\n",
              "<style>\n",
              "  .colab-df-quickchart {\n",
              "      --bg-color: #E8F0FE;\n",
              "      --fill-color: #1967D2;\n",
              "      --hover-bg-color: #E2EBFA;\n",
              "      --hover-fill-color: #174EA6;\n",
              "      --disabled-fill-color: #AAA;\n",
              "      --disabled-bg-color: #DDD;\n",
              "  }\n",
              "\n",
              "  [theme=dark] .colab-df-quickchart {\n",
              "      --bg-color: #3B4455;\n",
              "      --fill-color: #D2E3FC;\n",
              "      --hover-bg-color: #434B5C;\n",
              "      --hover-fill-color: #FFFFFF;\n",
              "      --disabled-bg-color: #3B4455;\n",
              "      --disabled-fill-color: #666;\n",
              "  }\n",
              "\n",
              "  .colab-df-quickchart {\n",
              "    background-color: var(--bg-color);\n",
              "    border: none;\n",
              "    border-radius: 50%;\n",
              "    cursor: pointer;\n",
              "    display: none;\n",
              "    fill: var(--fill-color);\n",
              "    height: 32px;\n",
              "    padding: 0;\n",
              "    width: 32px;\n",
              "  }\n",
              "\n",
              "  .colab-df-quickchart:hover {\n",
              "    background-color: var(--hover-bg-color);\n",
              "    box-shadow: 0 1px 2px rgba(60, 64, 67, 0.3), 0 1px 3px 1px rgba(60, 64, 67, 0.15);\n",
              "    fill: var(--button-hover-fill-color);\n",
              "  }\n",
              "\n",
              "  .colab-df-quickchart-complete:disabled,\n",
              "  .colab-df-quickchart-complete:disabled:hover {\n",
              "    background-color: var(--disabled-bg-color);\n",
              "    fill: var(--disabled-fill-color);\n",
              "    box-shadow: none;\n",
              "  }\n",
              "\n",
              "  .colab-df-spinner {\n",
              "    border: 2px solid var(--fill-color);\n",
              "    border-color: transparent;\n",
              "    border-bottom-color: var(--fill-color);\n",
              "    animation:\n",
              "      spin 1s steps(1) infinite;\n",
              "  }\n",
              "\n",
              "  @keyframes spin {\n",
              "    0% {\n",
              "      border-color: transparent;\n",
              "      border-bottom-color: var(--fill-color);\n",
              "      border-left-color: var(--fill-color);\n",
              "    }\n",
              "    20% {\n",
              "      border-color: transparent;\n",
              "      border-left-color: var(--fill-color);\n",
              "      border-top-color: var(--fill-color);\n",
              "    }\n",
              "    30% {\n",
              "      border-color: transparent;\n",
              "      border-left-color: var(--fill-color);\n",
              "      border-top-color: var(--fill-color);\n",
              "      border-right-color: var(--fill-color);\n",
              "    }\n",
              "    40% {\n",
              "      border-color: transparent;\n",
              "      border-right-color: var(--fill-color);\n",
              "      border-top-color: var(--fill-color);\n",
              "    }\n",
              "    60% {\n",
              "      border-color: transparent;\n",
              "      border-right-color: var(--fill-color);\n",
              "    }\n",
              "    80% {\n",
              "      border-color: transparent;\n",
              "      border-right-color: var(--fill-color);\n",
              "      border-bottom-color: var(--fill-color);\n",
              "    }\n",
              "    90% {\n",
              "      border-color: transparent;\n",
              "      border-bottom-color: var(--fill-color);\n",
              "    }\n",
              "  }\n",
              "</style>\n",
              "\n",
              "      <script>\n",
              "        async function quickchart(key) {\n",
              "          const quickchartButtonEl =\n",
              "            document.querySelector('#' + key + ' button');\n",
              "          quickchartButtonEl.disabled = true;  // To prevent multiple clicks.\n",
              "          quickchartButtonEl.classList.add('colab-df-spinner');\n",
              "          try {\n",
              "            const charts = await google.colab.kernel.invokeFunction(\n",
              "                'suggestCharts', [key], {});\n",
              "          } catch (error) {\n",
              "            console.error('Error during call to suggestCharts:', error);\n",
              "          }\n",
              "          quickchartButtonEl.classList.remove('colab-df-spinner');\n",
              "          quickchartButtonEl.classList.add('colab-df-quickchart-complete');\n",
              "        }\n",
              "        (() => {\n",
              "          let quickchartButtonEl =\n",
              "            document.querySelector('#df-4db6879e-e29e-460c-a9b2-38cc219b847c button');\n",
              "          quickchartButtonEl.style.display =\n",
              "            google.colab.kernel.accessAllowed ? 'block' : 'none';\n",
              "        })();\n",
              "      </script>\n",
              "    </div>\n",
              "\n",
              "    </div>\n",
              "  </div>\n"
            ],
            "application/vnd.google.colaboratory.intrinsic+json": {
              "type": "dataframe",
              "variable_name": "df"
            }
          },
          "metadata": {},
          "execution_count": 3
        }
      ]
    },
    {
      "cell_type": "code",
      "source": [
        "df.shape"
      ],
      "metadata": {
        "colab": {
          "base_uri": "https://localhost:8080/"
        },
        "id": "cGZvKAi0TcyW",
        "outputId": "9dc39de6-25e9-42ae-ac28-124ca1b51d71"
      },
      "execution_count": null,
      "outputs": [
        {
          "output_type": "execute_result",
          "data": {
            "text/plain": [
              "(1239, 1029)"
            ]
          },
          "metadata": {},
          "execution_count": 4
        }
      ]
    },
    {
      "cell_type": "markdown",
      "source": [
        "#Installing Optuna"
      ],
      "metadata": {
        "id": "ieALzZfYAjgD"
      }
    },
    {
      "cell_type": "code",
      "source": [
        "!pip install optuna"
      ],
      "metadata": {
        "colab": {
          "base_uri": "https://localhost:8080/"
        },
        "id": "Ld677Mi2USlK",
        "outputId": "fa41949a-5247-4a31-94d8-01559b560cca"
      },
      "execution_count": null,
      "outputs": [
        {
          "output_type": "stream",
          "name": "stdout",
          "text": [
            "Collecting optuna\n",
            "  Downloading optuna-4.4.0-py3-none-any.whl.metadata (17 kB)\n",
            "Collecting alembic>=1.5.0 (from optuna)\n",
            "  Downloading alembic-1.16.2-py3-none-any.whl.metadata (7.3 kB)\n",
            "Collecting colorlog (from optuna)\n",
            "  Downloading colorlog-6.9.0-py3-none-any.whl.metadata (10 kB)\n",
            "Requirement already satisfied: numpy in /usr/local/lib/python3.11/dist-packages (from optuna) (2.0.2)\n",
            "Requirement already satisfied: packaging>=20.0 in /usr/local/lib/python3.11/dist-packages (from optuna) (24.2)\n",
            "Requirement already satisfied: sqlalchemy>=1.4.2 in /usr/local/lib/python3.11/dist-packages (from optuna) (2.0.41)\n",
            "Requirement already satisfied: tqdm in /usr/local/lib/python3.11/dist-packages (from optuna) (4.67.1)\n",
            "Requirement already satisfied: PyYAML in /usr/local/lib/python3.11/dist-packages (from optuna) (6.0.2)\n",
            "Requirement already satisfied: Mako in /usr/lib/python3/dist-packages (from alembic>=1.5.0->optuna) (1.1.3)\n",
            "Requirement already satisfied: typing-extensions>=4.12 in /usr/local/lib/python3.11/dist-packages (from alembic>=1.5.0->optuna) (4.14.0)\n",
            "Requirement already satisfied: greenlet>=1 in /usr/local/lib/python3.11/dist-packages (from sqlalchemy>=1.4.2->optuna) (3.2.3)\n",
            "Downloading optuna-4.4.0-py3-none-any.whl (395 kB)\n",
            "\u001b[2K   \u001b[90m━━━━━━━━━━━━━━━━━━━━━━━━━━━━━━━━━━━━━━━━\u001b[0m \u001b[32m395.9/395.9 kB\u001b[0m \u001b[31m16.2 MB/s\u001b[0m eta \u001b[36m0:00:00\u001b[0m\n",
            "\u001b[?25hDownloading alembic-1.16.2-py3-none-any.whl (242 kB)\n",
            "\u001b[2K   \u001b[90m━━━━━━━━━━━━━━━━━━━━━━━━━━━━━━━━━━━━━━━━\u001b[0m \u001b[32m242.7/242.7 kB\u001b[0m \u001b[31m20.2 MB/s\u001b[0m eta \u001b[36m0:00:00\u001b[0m\n",
            "\u001b[?25hDownloading colorlog-6.9.0-py3-none-any.whl (11 kB)\n",
            "Installing collected packages: colorlog, alembic, optuna\n",
            "Successfully installed alembic-1.16.2 colorlog-6.9.0 optuna-4.4.0\n"
          ]
        }
      ]
    },
    {
      "cell_type": "markdown",
      "source": [
        "Optuna is an automatic hyperparameter optimization framework that helps efficiently search for the best model settings using techniques like Bayesian optimization. I will be using it later to fine-tune the machine learning model for improved performance."
      ],
      "metadata": {
        "id": "D3sdbDEkAmBp"
      }
    },
    {
      "cell_type": "markdown",
      "source": [
        "#**Model Setup & Feature–Label Separation**"
      ],
      "metadata": {
        "id": "aQYFrwGfAs5Q"
      }
    },
    {
      "cell_type": "code",
      "source": [
        "from sklearn.ensemble import RandomForestClassifier\n",
        "from sklearn.model_selection import StratifiedKFold, train_test_split, cross_val_score\n",
        "from sklearn.metrics import f1_score, make_scorer\n",
        "import optuna\n",
        "\n",
        "X = df.drop(\"bioactivity_class\", axis=1)\n",
        "y = df[\"bioactivity_class\"]"
      ],
      "metadata": {
        "id": "yiUdtY4TUWFG"
      },
      "execution_count": null,
      "outputs": []
    },
    {
      "cell_type": "markdown",
      "source": [
        "#**Imports Explained**\n",
        "\n",
        "#RandomForestClassifier\n",
        "\n",
        "- A powerful, ensemble learning method that builds multiple decision trees and outputs the mode of their predictions.\n",
        "\n",
        "- Handles both categorical and continuous features.\n",
        "\n",
        "- Does not require feature scaling or normalization.\n",
        "\n",
        "- Naturally handles non-linear relationships, outliers, and imbalanced features.\n",
        "\n",
        "- Perfect fit for my bioactivity data with mixed descriptors and fingerprint bits.\n",
        "\n",
        "#StratifiedKFold\n",
        "\n",
        "- A type of cross-validation that maintains the original class distribution in each fold (important because my dataset is imbalanced, with far more actives than inactives).\n",
        "\n",
        "- Prevents performance inflation due to overrepresentation of the majority class in certain folds.\n",
        "\n",
        "- Essential when using metrics like F1 score.\n",
        "\n",
        "#train_test_split\n",
        "\n",
        "- Splits your data into training and test sets.\n",
        "\n",
        "- Typically used before final evaluation.\n",
        "\n",
        "- Allows to hold out a test set that the model has never seen, providing unbiased performance metrics after tuning.\n",
        "\n",
        "#cross_val_score\n",
        "\n",
        "- Automates the training and evaluation of models over K folds.\n",
        "\n",
        "- Will be used to compute an average metric (like F1 score) over multiple validation splits.\n",
        "\n",
        "- Helps in avoiding lucky/unlucky splits by validating across the entire dataset.\n",
        "\n",
        "- f1_score\n",
        "\n",
        "The F1 score is the harmonic mean of precision and recall:\n",
        "\n",
        "F1\n",
        "=\n",
        "2\n",
        "×\n",
        "(Precision\n",
        "⋅\n",
        "Recall)/\n",
        "(Precision\n",
        "+\n",
        "Recall)\n",
        "\n",
        "I am using this because of class imbalance:\n",
        "\n",
        "- Accuracy might look high even if the model only predicts the dominant class (e.g., always predicting \"active\").\n",
        "\n",
        "- F1 ensures that both false positives and false negatives are penalized.\n",
        "\n",
        "- It is particularly valuable when the cost of misclassification is non-symmetric, like here (false active > false inactive).\n",
        "\n",
        "#make_scorer\n",
        "\n",
        "- Converts a scoring function (like f1_score) into a callable object that can be passed into cross_val_score or Optuna’s objective function.\n",
        "\n",
        "- This allows custom scoring metrics to be used in CV and hyperparameter tuning."
      ],
      "metadata": {
        "id": "LdvBl40fBKgF"
      }
    },
    {
      "cell_type": "code",
      "source": [
        "print(X.shape)\n",
        "print(y.shape)"
      ],
      "metadata": {
        "colab": {
          "base_uri": "https://localhost:8080/"
        },
        "id": "0zKfT5TvUhRk",
        "outputId": "97f3b949-0656-4bcf-d407-57b9360d51c7"
      },
      "execution_count": null,
      "outputs": [
        {
          "output_type": "stream",
          "name": "stdout",
          "text": [
            "(1239, 1028)\n",
            "(1239,)\n"
          ]
        }
      ]
    },
    {
      "cell_type": "markdown",
      "source": [
        "X (features): Includes 1028 columns — 4 physicochemical properties (MW, LogP, etc.) and 1024 Morgan fingerprint bits.\n",
        "\n",
        "y (target): A binary variable:\n",
        "\n",
        "1: Active (IC50 ≤ 1000 nM)\n",
        "\n",
        "0: Inactive (IC50 ≥ 10000 nM)\n",
        "\n",
        "This separation is the foundation of supervised learning, where X is used to learn patterns that predict y."
      ],
      "metadata": {
        "id": "EIxYpd2uCRt1"
      }
    },
    {
      "cell_type": "markdown",
      "source": [
        "#**Nested Cross-Validation with Optuna**\n",
        "\n",
        "In this section, I perform nested cross-validation to obtain an unbiased estimate of the model’s generalization performance. The process involves two loops:\n",
        "\n",
        "- Inner loop (3-fold CV): Used by Optuna to tune the hyperparameters of the Random Forest model on each training split.\n",
        "\n",
        "- Outer loop (5-fold CV): Used to evaluate the model with tuned parameters on a completely unseen test fold.\n",
        "\n",
        "This setup ensures that hyperparameter optimization is strictly confined to the training data in each split, thereby avoiding data leakage and overly optimistic evaluation metrics.\n",
        "\n",
        "**I am using F1-score as the evaluation metric to account for class imbalance in the dataset**. The make_scorer function is used to pass this metric to cross_val_score.\n",
        "\n",
        "Its important to note that this nested CV process is not for deployment, but rather for fairly checking the generalizability of the model pipeline."
      ],
      "metadata": {
        "id": "dufW8lk2Cbr0"
      }
    },
    {
      "cell_type": "code",
      "source": [
        "def objective(trial, X_train, y_train):\n",
        "    params = {\n",
        "        \"n_estimators\": trial.suggest_int(\"n_estimators\", 100, 1000),\n",
        "        \"max_depth\": trial.suggest_int(\"max_depth\", 3, 30),\n",
        "        \"min_samples_split\": trial.suggest_int(\"min_samples_split\", 2, 10),\n",
        "        \"min_samples_leaf\": trial.suggest_int(\"min_samples_leaf\", 1, 10),\n",
        "        \"bootstrap\": trial.suggest_categorical(\"bootstrap\", [True, False]),\n",
        "        \"random_state\": 42,\n",
        "        \"n_jobs\": -1\n",
        "    }\n",
        "\n",
        "    model = RandomForestClassifier(**params)\n",
        "    inner_cv = StratifiedKFold(n_splits=3, shuffle=True, random_state=42)\n",
        "    scores = cross_val_score(model, X_train, y_train, cv=inner_cv, scoring=\"f1\", n_jobs=-1)\n",
        "    return np.mean(scores)"
      ],
      "metadata": {
        "id": "VpFDPMEkUmtd"
      },
      "execution_count": null,
      "outputs": []
    },
    {
      "cell_type": "code",
      "source": [
        "outer_cv = StratifiedKFold(n_splits=5, shuffle=True, random_state=42)\n",
        "outer_scores = []\n",
        "\n",
        "for train_idx, test_idx in outer_cv.split(X, y):\n",
        "    X_train, X_test = X.iloc[train_idx], X.iloc[test_idx]\n",
        "    y_train, y_test = y.iloc[train_idx], y.iloc[test_idx]\n",
        "\n",
        "    study = optuna.create_study(direction=\"maximize\")\n",
        "    study.optimize(lambda trial: objective(trial, X_train, y_train), n_trials=25)\n",
        "\n",
        "    best_params = study.best_params\n",
        "    best_model = RandomForestClassifier(**best_params, random_state=42, n_jobs=-1)\n",
        "    best_model.fit(X_train, y_train)\n",
        "    preds = best_model.predict(X_test)\n",
        "    f1 = f1_score(y_test, preds)\n",
        "    outer_scores.append(f1)\n",
        "\n",
        "print(f\"Nested CV F1-score: {np.mean(outer_scores):.4f} ± {np.std(outer_scores):.4f}\")"
      ],
      "metadata": {
        "colab": {
          "base_uri": "https://localhost:8080/"
        },
        "id": "XO16cXkFVJKk",
        "outputId": "f1803763-2e54-4c19-cfc9-2f88d67b3e75"
      },
      "execution_count": null,
      "outputs": [
        {
          "output_type": "stream",
          "name": "stderr",
          "text": [
            "[I 2025-06-17 14:40:45,264] A new study created in memory with name: no-name-32f4b668-51b1-4e57-9a0e-b7cd3ebd2571\n",
            "[I 2025-06-17 14:40:50,295] Trial 0 finished with value: 0.9272051264270944 and parameters: {'n_estimators': 659, 'max_depth': 4, 'min_samples_split': 8, 'min_samples_leaf': 6, 'bootstrap': True}. Best is trial 0 with value: 0.9272051264270944.\n",
            "[I 2025-06-17 14:40:54,382] Trial 1 finished with value: 0.9393671660474041 and parameters: {'n_estimators': 633, 'max_depth': 29, 'min_samples_split': 2, 'min_samples_leaf': 3, 'bootstrap': True}. Best is trial 1 with value: 0.9393671660474041.\n",
            "[I 2025-06-17 14:40:59,242] Trial 2 finished with value: 0.9339757939635037 and parameters: {'n_estimators': 986, 'max_depth': 21, 'min_samples_split': 2, 'min_samples_leaf': 6, 'bootstrap': True}. Best is trial 1 with value: 0.9393671660474041.\n",
            "[I 2025-06-17 14:41:04,324] Trial 3 finished with value: 0.9372433873976272 and parameters: {'n_estimators': 846, 'max_depth': 19, 'min_samples_split': 5, 'min_samples_leaf': 1, 'bootstrap': False}. Best is trial 1 with value: 0.9393671660474041.\n",
            "[I 2025-06-17 14:41:08,079] Trial 4 finished with value: 0.9321480048853443 and parameters: {'n_estimators': 746, 'max_depth': 24, 'min_samples_split': 10, 'min_samples_leaf': 10, 'bootstrap': False}. Best is trial 1 with value: 0.9393671660474041.\n",
            "[I 2025-06-17 14:41:11,934] Trial 5 finished with value: 0.9346207647206385 and parameters: {'n_estimators': 767, 'max_depth': 13, 'min_samples_split': 10, 'min_samples_leaf': 5, 'bootstrap': True}. Best is trial 1 with value: 0.9393671660474041.\n",
            "[I 2025-06-17 14:41:13,034] Trial 6 finished with value: 0.934604447839742 and parameters: {'n_estimators': 202, 'max_depth': 17, 'min_samples_split': 7, 'min_samples_leaf': 10, 'bootstrap': False}. Best is trial 1 with value: 0.9393671660474041.\n",
            "[I 2025-06-17 14:41:18,323] Trial 7 finished with value: 0.9349958646033683 and parameters: {'n_estimators': 971, 'max_depth': 7, 'min_samples_split': 3, 'min_samples_leaf': 7, 'bootstrap': True}. Best is trial 1 with value: 0.9393671660474041.\n",
            "[I 2025-06-17 14:41:22,818] Trial 8 finished with value: 0.9316747351589291 and parameters: {'n_estimators': 920, 'max_depth': 30, 'min_samples_split': 9, 'min_samples_leaf': 7, 'bootstrap': True}. Best is trial 1 with value: 0.9393671660474041.\n",
            "[I 2025-06-17 14:41:25,546] Trial 9 finished with value: 0.9332582611413534 and parameters: {'n_estimators': 602, 'max_depth': 11, 'min_samples_split': 9, 'min_samples_leaf': 9, 'bootstrap': False}. Best is trial 1 with value: 0.9393671660474041.\n",
            "[I 2025-06-17 14:41:28,156] Trial 10 finished with value: 0.9376902171250466 and parameters: {'n_estimators': 401, 'max_depth': 30, 'min_samples_split': 5, 'min_samples_leaf': 2, 'bootstrap': True}. Best is trial 1 with value: 0.9393671660474041.\n",
            "[I 2025-06-17 14:41:30,406] Trial 11 finished with value: 0.9376902171250466 and parameters: {'n_estimators': 388, 'max_depth': 30, 'min_samples_split': 5, 'min_samples_leaf': 2, 'bootstrap': True}. Best is trial 1 with value: 0.9393671660474041.\n",
            "[I 2025-06-17 14:41:32,755] Trial 12 finished with value: 0.9405428706800597 and parameters: {'n_estimators': 429, 'max_depth': 25, 'min_samples_split': 4, 'min_samples_leaf': 3, 'bootstrap': True}. Best is trial 12 with value: 0.9405428706800597.\n",
            "[I 2025-06-17 14:41:35,226] Trial 13 finished with value: 0.936286577955892 and parameters: {'n_estimators': 463, 'max_depth': 25, 'min_samples_split': 3, 'min_samples_leaf': 4, 'bootstrap': True}. Best is trial 12 with value: 0.9405428706800597.\n",
            "[I 2025-06-17 14:41:36,299] Trial 14 finished with value: 0.940612990231967 and parameters: {'n_estimators': 169, 'max_depth': 25, 'min_samples_split': 2, 'min_samples_leaf': 3, 'bootstrap': True}. Best is trial 14 with value: 0.940612990231967.\n",
            "[I 2025-06-17 14:41:37,109] Trial 15 finished with value: 0.9344512715480459 and parameters: {'n_estimators': 128, 'max_depth': 23, 'min_samples_split': 4, 'min_samples_leaf': 4, 'bootstrap': True}. Best is trial 14 with value: 0.940612990231967.\n",
            "[I 2025-06-17 14:41:38,665] Trial 16 finished with value: 0.9370040650201205 and parameters: {'n_estimators': 251, 'max_depth': 26, 'min_samples_split': 3, 'min_samples_leaf': 1, 'bootstrap': True}. Best is trial 14 with value: 0.940612990231967.\n",
            "[I 2025-06-17 14:41:40,994] Trial 17 finished with value: 0.9392848466672058 and parameters: {'n_estimators': 311, 'max_depth': 20, 'min_samples_split': 6, 'min_samples_leaf': 3, 'bootstrap': True}. Best is trial 14 with value: 0.940612990231967.\n",
            "[I 2025-06-17 14:41:41,654] Trial 18 finished with value: 0.9376215893616688 and parameters: {'n_estimators': 103, 'max_depth': 14, 'min_samples_split': 4, 'min_samples_leaf': 4, 'bootstrap': False}. Best is trial 14 with value: 0.940612990231967.\n",
            "[I 2025-06-17 14:41:44,391] Trial 19 finished with value: 0.9393671660474041 and parameters: {'n_estimators': 510, 'max_depth': 27, 'min_samples_split': 2, 'min_samples_leaf': 3, 'bootstrap': True}. Best is trial 14 with value: 0.940612990231967.\n",
            "[I 2025-06-17 14:41:46,062] Trial 20 finished with value: 0.9351645466556547 and parameters: {'n_estimators': 313, 'max_depth': 22, 'min_samples_split': 4, 'min_samples_leaf': 5, 'bootstrap': True}. Best is trial 14 with value: 0.940612990231967.\n",
            "[I 2025-06-17 14:41:49,311] Trial 21 finished with value: 0.9393671660474041 and parameters: {'n_estimators': 601, 'max_depth': 27, 'min_samples_split': 2, 'min_samples_leaf': 3, 'bootstrap': True}. Best is trial 14 with value: 0.940612990231967.\n",
            "[I 2025-06-17 14:41:53,876] Trial 22 finished with value: 0.9395840658931912 and parameters: {'n_estimators': 689, 'max_depth': 28, 'min_samples_split': 3, 'min_samples_leaf': 2, 'bootstrap': True}. Best is trial 14 with value: 0.940612990231967.\n",
            "[I 2025-06-17 14:41:56,780] Trial 23 finished with value: 0.938956845782403 and parameters: {'n_estimators': 516, 'max_depth': 27, 'min_samples_split': 3, 'min_samples_leaf': 2, 'bootstrap': True}. Best is trial 14 with value: 0.940612990231967.\n",
            "[I 2025-06-17 14:42:00,841] Trial 24 finished with value: 0.9370618403412982 and parameters: {'n_estimators': 725, 'max_depth': 18, 'min_samples_split': 4, 'min_samples_leaf': 1, 'bootstrap': True}. Best is trial 14 with value: 0.940612990231967.\n",
            "[I 2025-06-17 14:42:01,280] A new study created in memory with name: no-name-64c1465a-0c90-4bd0-8c55-269945bdba85\n",
            "[I 2025-06-17 14:42:06,099] Trial 0 finished with value: 0.9324559795536959 and parameters: {'n_estimators': 862, 'max_depth': 20, 'min_samples_split': 4, 'min_samples_leaf': 9, 'bootstrap': False}. Best is trial 0 with value: 0.9324559795536959.\n",
            "[I 2025-06-17 14:42:08,422] Trial 1 finished with value: 0.9283446104022417 and parameters: {'n_estimators': 565, 'max_depth': 6, 'min_samples_split': 7, 'min_samples_leaf': 10, 'bootstrap': False}. Best is trial 0 with value: 0.9324559795536959.\n",
            "[I 2025-06-17 14:42:13,235] Trial 2 finished with value: 0.9355861727224495 and parameters: {'n_estimators': 949, 'max_depth': 14, 'min_samples_split': 5, 'min_samples_leaf': 5, 'bootstrap': False}. Best is trial 2 with value: 0.9355861727224495.\n",
            "[I 2025-06-17 14:42:17,996] Trial 3 finished with value: 0.9355861727224495 and parameters: {'n_estimators': 790, 'max_depth': 17, 'min_samples_split': 2, 'min_samples_leaf': 5, 'bootstrap': False}. Best is trial 2 with value: 0.9355861727224495.\n",
            "[I 2025-06-17 14:42:20,937] Trial 4 finished with value: 0.9398532071849218 and parameters: {'n_estimators': 521, 'max_depth': 25, 'min_samples_split': 7, 'min_samples_leaf': 2, 'bootstrap': False}. Best is trial 4 with value: 0.9398532071849218.\n",
            "[I 2025-06-17 14:42:22,440] Trial 5 finished with value: 0.9318427193257408 and parameters: {'n_estimators': 286, 'max_depth': 12, 'min_samples_split': 4, 'min_samples_leaf': 6, 'bootstrap': True}. Best is trial 4 with value: 0.9398532071849218.\n",
            "[I 2025-06-17 14:42:23,533] Trial 6 finished with value: 0.9328427641038654 and parameters: {'n_estimators': 204, 'max_depth': 13, 'min_samples_split': 8, 'min_samples_leaf': 8, 'bootstrap': False}. Best is trial 4 with value: 0.9398532071849218.\n",
            "[I 2025-06-17 14:42:24,865] Trial 7 finished with value: 0.9215880013440573 and parameters: {'n_estimators': 259, 'max_depth': 7, 'min_samples_split': 9, 'min_samples_leaf': 10, 'bootstrap': True}. Best is trial 4 with value: 0.9398532071849218.\n",
            "[I 2025-06-17 14:42:28,510] Trial 8 finished with value: 0.9409084588058305 and parameters: {'n_estimators': 486, 'max_depth': 18, 'min_samples_split': 8, 'min_samples_leaf': 1, 'bootstrap': False}. Best is trial 8 with value: 0.9409084588058305.\n",
            "[I 2025-06-17 14:42:33,165] Trial 9 finished with value: 0.9252590972261173 and parameters: {'n_estimators': 984, 'max_depth': 23, 'min_samples_split': 8, 'min_samples_leaf': 9, 'bootstrap': True}. Best is trial 8 with value: 0.9409084588058305.\n",
            "[I 2025-06-17 14:42:35,855] Trial 10 finished with value: 0.9369995463185429 and parameters: {'n_estimators': 481, 'max_depth': 29, 'min_samples_split': 10, 'min_samples_leaf': 1, 'bootstrap': True}. Best is trial 8 with value: 0.9409084588058305.\n",
            "[I 2025-06-17 14:42:39,887] Trial 11 finished with value: 0.9433272208011343 and parameters: {'n_estimators': 530, 'max_depth': 27, 'min_samples_split': 6, 'min_samples_leaf': 1, 'bootstrap': False}. Best is trial 11 with value: 0.9433272208011343.\n",
            "[I 2025-06-17 14:42:43,327] Trial 12 finished with value: 0.9363550606476179 and parameters: {'n_estimators': 633, 'max_depth': 29, 'min_samples_split': 6, 'min_samples_leaf': 3, 'bootstrap': False}. Best is trial 11 with value: 0.9433272208011343.\n",
            "[I 2025-06-17 14:42:45,602] Trial 13 finished with value: 0.9368419698680054 and parameters: {'n_estimators': 391, 'max_depth': 24, 'min_samples_split': 6, 'min_samples_leaf': 3, 'bootstrap': False}. Best is trial 11 with value: 0.9433272208011343.\n",
            "[I 2025-06-17 14:42:50,160] Trial 14 finished with value: 0.9403328048410202 and parameters: {'n_estimators': 711, 'max_depth': 19, 'min_samples_split': 10, 'min_samples_leaf': 1, 'bootstrap': False}. Best is trial 11 with value: 0.9433272208011343.\n",
            "[I 2025-06-17 14:42:51,603] Trial 15 finished with value: 0.9162177022340007 and parameters: {'n_estimators': 390, 'max_depth': 3, 'min_samples_split': 2, 'min_samples_leaf': 3, 'bootstrap': False}. Best is trial 11 with value: 0.9433272208011343.\n",
            "[I 2025-06-17 14:42:54,039] Trial 16 finished with value: 0.9403376636423934 and parameters: {'n_estimators': 399, 'max_depth': 26, 'min_samples_split': 8, 'min_samples_leaf': 1, 'bootstrap': False}. Best is trial 11 with value: 0.9433272208011343.\n",
            "[I 2025-06-17 14:42:57,541] Trial 17 finished with value: 0.9379809009136172 and parameters: {'n_estimators': 666, 'max_depth': 21, 'min_samples_split': 5, 'min_samples_leaf': 4, 'bootstrap': False}. Best is trial 11 with value: 0.9433272208011343.\n",
            "[I 2025-06-17 14:42:58,230] Trial 18 finished with value: 0.9353457650688854 and parameters: {'n_estimators': 100, 'max_depth': 10, 'min_samples_split': 7, 'min_samples_leaf': 2, 'bootstrap': True}. Best is trial 11 with value: 0.9433272208011343.\n",
            "[I 2025-06-17 14:43:01,412] Trial 19 finished with value: 0.9357180667391894 and parameters: {'n_estimators': 573, 'max_depth': 27, 'min_samples_split': 9, 'min_samples_leaf': 7, 'bootstrap': False}. Best is trial 11 with value: 0.9433272208011343.\n",
            "[I 2025-06-17 14:43:04,112] Trial 20 finished with value: 0.9404790542856043 and parameters: {'n_estimators': 457, 'max_depth': 16, 'min_samples_split': 4, 'min_samples_leaf': 2, 'bootstrap': False}. Best is trial 11 with value: 0.9433272208011343.\n",
            "[I 2025-06-17 14:43:06,694] Trial 21 finished with value: 0.9405484382338477 and parameters: {'n_estimators': 450, 'max_depth': 16, 'min_samples_split': 3, 'min_samples_leaf': 2, 'bootstrap': False}. Best is trial 11 with value: 0.9433272208011343.\n",
            "[I 2025-06-17 14:43:08,635] Trial 22 finished with value: 0.9438919932755097 and parameters: {'n_estimators': 323, 'max_depth': 17, 'min_samples_split': 5, 'min_samples_leaf': 1, 'bootstrap': False}. Best is trial 22 with value: 0.9438919932755097.\n",
            "[I 2025-06-17 14:43:10,492] Trial 23 finished with value: 0.9432691556273879 and parameters: {'n_estimators': 297, 'max_depth': 22, 'min_samples_split': 6, 'min_samples_leaf': 1, 'bootstrap': False}. Best is trial 22 with value: 0.9438919932755097.\n",
            "[I 2025-06-17 14:43:12,483] Trial 24 finished with value: 0.9362465812948905 and parameters: {'n_estimators': 309, 'max_depth': 22, 'min_samples_split': 5, 'min_samples_leaf': 4, 'bootstrap': False}. Best is trial 22 with value: 0.9438919932755097.\n",
            "[I 2025-06-17 14:43:13,658] A new study created in memory with name: no-name-4643265c-dd5b-4e36-b6fe-16bc7b965b47\n",
            "[I 2025-06-17 14:43:14,973] Trial 0 finished with value: 0.9333844585371817 and parameters: {'n_estimators': 311, 'max_depth': 5, 'min_samples_split': 3, 'min_samples_leaf': 6, 'bootstrap': False}. Best is trial 0 with value: 0.9333844585371817.\n",
            "[I 2025-06-17 14:43:15,900] Trial 1 finished with value: 0.9330264836048136 and parameters: {'n_estimators': 162, 'max_depth': 18, 'min_samples_split': 7, 'min_samples_leaf': 7, 'bootstrap': False}. Best is trial 0 with value: 0.9333844585371817.\n",
            "[I 2025-06-17 14:43:17,136] Trial 2 finished with value: 0.9340025252824735 and parameters: {'n_estimators': 251, 'max_depth': 7, 'min_samples_split': 5, 'min_samples_leaf': 7, 'bootstrap': False}. Best is trial 2 with value: 0.9340025252824735.\n",
            "[I 2025-06-17 14:43:21,984] Trial 3 finished with value: 0.9369223696657324 and parameters: {'n_estimators': 972, 'max_depth': 23, 'min_samples_split': 9, 'min_samples_leaf': 5, 'bootstrap': True}. Best is trial 3 with value: 0.9369223696657324.\n",
            "[I 2025-06-17 14:43:23,033] Trial 4 finished with value: 0.9383392993493244 and parameters: {'n_estimators': 170, 'max_depth': 15, 'min_samples_split': 4, 'min_samples_leaf': 3, 'bootstrap': False}. Best is trial 4 with value: 0.9383392993493244.\n",
            "[I 2025-06-17 14:43:25,027] Trial 5 finished with value: 0.933123329918771 and parameters: {'n_estimators': 254, 'max_depth': 22, 'min_samples_split': 4, 'min_samples_leaf': 8, 'bootstrap': True}. Best is trial 4 with value: 0.9383392993493244.\n",
            "[I 2025-06-17 14:43:30,238] Trial 6 finished with value: 0.9418105710447159 and parameters: {'n_estimators': 866, 'max_depth': 24, 'min_samples_split': 4, 'min_samples_leaf': 1, 'bootstrap': False}. Best is trial 6 with value: 0.9418105710447159.\n",
            "[I 2025-06-17 14:43:33,783] Trial 7 finished with value: 0.937850857569647 and parameters: {'n_estimators': 663, 'max_depth': 14, 'min_samples_split': 3, 'min_samples_leaf': 3, 'bootstrap': False}. Best is trial 6 with value: 0.9418105710447159.\n",
            "[I 2025-06-17 14:43:36,481] Trial 8 finished with value: 0.9328822905272817 and parameters: {'n_estimators': 479, 'max_depth': 10, 'min_samples_split': 2, 'min_samples_leaf': 10, 'bootstrap': False}. Best is trial 6 with value: 0.9418105710447159.\n",
            "[I 2025-06-17 14:43:40,376] Trial 9 finished with value: 0.929547164071138 and parameters: {'n_estimators': 841, 'max_depth': 12, 'min_samples_split': 3, 'min_samples_leaf': 9, 'bootstrap': True}. Best is trial 6 with value: 0.9418105710447159.\n",
            "[I 2025-06-17 14:43:44,336] Trial 10 finished with value: 0.9402761813261687 and parameters: {'n_estimators': 700, 'max_depth': 28, 'min_samples_split': 7, 'min_samples_leaf': 1, 'bootstrap': True}. Best is trial 6 with value: 0.9418105710447159.\n",
            "[I 2025-06-17 14:43:48,784] Trial 11 finished with value: 0.9402761813261687 and parameters: {'n_estimators': 708, 'max_depth': 30, 'min_samples_split': 7, 'min_samples_leaf': 1, 'bootstrap': True}. Best is trial 6 with value: 0.9418105710447159.\n",
            "[I 2025-06-17 14:43:53,453] Trial 12 finished with value: 0.9379708728435786 and parameters: {'n_estimators': 854, 'max_depth': 30, 'min_samples_split': 10, 'min_samples_leaf': 1, 'bootstrap': True}. Best is trial 6 with value: 0.9418105710447159.\n",
            "[I 2025-06-17 14:43:56,460] Trial 13 finished with value: 0.9366701031158168 and parameters: {'n_estimators': 550, 'max_depth': 25, 'min_samples_split': 6, 'min_samples_leaf': 3, 'bootstrap': True}. Best is trial 6 with value: 0.9418105710447159.\n",
            "[I 2025-06-17 14:44:02,885] Trial 14 finished with value: 0.9402788475141074 and parameters: {'n_estimators': 982, 'max_depth': 26, 'min_samples_split': 8, 'min_samples_leaf': 1, 'bootstrap': False}. Best is trial 6 with value: 0.9418105710447159.\n",
            "[I 2025-06-17 14:44:08,073] Trial 15 finished with value: 0.936012653410265 and parameters: {'n_estimators': 993, 'max_depth': 19, 'min_samples_split': 9, 'min_samples_leaf': 4, 'bootstrap': False}. Best is trial 6 with value: 0.9418105710447159.\n",
            "[I 2025-06-17 14:44:13,808] Trial 16 finished with value: 0.9390273195029141 and parameters: {'n_estimators': 859, 'max_depth': 25, 'min_samples_split': 8, 'min_samples_leaf': 2, 'bootstrap': False}. Best is trial 6 with value: 0.9418105710447159.\n",
            "[I 2025-06-17 14:44:18,227] Trial 17 finished with value: 0.9408390728868761 and parameters: {'n_estimators': 779, 'max_depth': 21, 'min_samples_split': 5, 'min_samples_leaf': 2, 'bootstrap': False}. Best is trial 6 with value: 0.9418105710447159.\n",
            "[I 2025-06-17 14:44:22,499] Trial 18 finished with value: 0.9366470061484486 and parameters: {'n_estimators': 761, 'max_depth': 20, 'min_samples_split': 5, 'min_samples_leaf': 4, 'bootstrap': False}. Best is trial 6 with value: 0.9418105710447159.\n",
            "[I 2025-06-17 14:44:26,053] Trial 19 finished with value: 0.9402093525998407 and parameters: {'n_estimators': 592, 'max_depth': 21, 'min_samples_split': 5, 'min_samples_leaf': 2, 'bootstrap': False}. Best is trial 6 with value: 0.9418105710447159.\n",
            "[I 2025-06-17 14:44:28,399] Trial 20 finished with value: 0.9360223374885906 and parameters: {'n_estimators': 447, 'max_depth': 16, 'min_samples_split': 2, 'min_samples_leaf': 5, 'bootstrap': False}. Best is trial 6 with value: 0.9418105710447159.\n",
            "[I 2025-06-17 14:44:33,570] Trial 21 finished with value: 0.9402093525998407 and parameters: {'n_estimators': 915, 'max_depth': 26, 'min_samples_split': 6, 'min_samples_leaf': 2, 'bootstrap': False}. Best is trial 6 with value: 0.9418105710447159.\n",
            "[I 2025-06-17 14:44:38,448] Trial 22 finished with value: 0.9412502261259871 and parameters: {'n_estimators': 765, 'max_depth': 23, 'min_samples_split': 4, 'min_samples_leaf': 1, 'bootstrap': False}. Best is trial 6 with value: 0.9418105710447159.\n",
            "[I 2025-06-17 14:44:42,846] Trial 23 finished with value: 0.9407657269705078 and parameters: {'n_estimators': 753, 'max_depth': 22, 'min_samples_split': 4, 'min_samples_leaf': 2, 'bootstrap': False}. Best is trial 6 with value: 0.9418105710447159.\n",
            "[I 2025-06-17 14:44:47,744] Trial 24 finished with value: 0.9366470061484486 and parameters: {'n_estimators': 806, 'max_depth': 24, 'min_samples_split': 4, 'min_samples_leaf': 4, 'bootstrap': False}. Best is trial 6 with value: 0.9418105710447159.\n",
            "[I 2025-06-17 14:44:50,106] A new study created in memory with name: no-name-7c01ffe5-0847-43cf-97b6-0ed741799b04\n",
            "[I 2025-06-17 14:44:53,161] Trial 0 finished with value: 0.9366479442350052 and parameters: {'n_estimators': 581, 'max_depth': 18, 'min_samples_split': 10, 'min_samples_leaf': 4, 'bootstrap': False}. Best is trial 0 with value: 0.9366479442350052.\n",
            "[I 2025-06-17 14:44:55,061] Trial 1 finished with value: 0.9359289376589591 and parameters: {'n_estimators': 419, 'max_depth': 30, 'min_samples_split': 5, 'min_samples_leaf': 10, 'bootstrap': False}. Best is trial 0 with value: 0.9366479442350052.\n",
            "[I 2025-06-17 14:45:00,256] Trial 2 finished with value: 0.9361708158323837 and parameters: {'n_estimators': 891, 'max_depth': 11, 'min_samples_split': 9, 'min_samples_leaf': 5, 'bootstrap': False}. Best is trial 0 with value: 0.9366479442350052.\n",
            "[I 2025-06-17 14:45:02,851] Trial 3 finished with value: 0.9333288382362422 and parameters: {'n_estimators': 545, 'max_depth': 7, 'min_samples_split': 5, 'min_samples_leaf': 8, 'bootstrap': True}. Best is trial 0 with value: 0.9366479442350052.\n",
            "[I 2025-06-17 14:45:06,390] Trial 4 finished with value: 0.9396809163390495 and parameters: {'n_estimators': 671, 'max_depth': 16, 'min_samples_split': 2, 'min_samples_leaf': 4, 'bootstrap': False}. Best is trial 4 with value: 0.9396809163390495.\n",
            "[I 2025-06-17 14:45:11,057] Trial 5 finished with value: 0.9397519797113342 and parameters: {'n_estimators': 736, 'max_depth': 14, 'min_samples_split': 7, 'min_samples_leaf': 2, 'bootstrap': True}. Best is trial 5 with value: 0.9397519797113342.\n",
            "[I 2025-06-17 14:45:14,664] Trial 6 finished with value: 0.9301336239014971 and parameters: {'n_estimators': 741, 'max_depth': 24, 'min_samples_split': 7, 'min_samples_leaf': 10, 'bootstrap': True}. Best is trial 5 with value: 0.9397519797113342.\n",
            "[I 2025-06-17 14:45:17,793] Trial 7 finished with value: 0.9420983583306741 and parameters: {'n_estimators': 513, 'max_depth': 15, 'min_samples_split': 3, 'min_samples_leaf': 1, 'bootstrap': False}. Best is trial 7 with value: 0.9420983583306741.\n",
            "[I 2025-06-17 14:45:20,872] Trial 8 finished with value: 0.936743485272897 and parameters: {'n_estimators': 538, 'max_depth': 29, 'min_samples_split': 4, 'min_samples_leaf': 4, 'bootstrap': True}. Best is trial 7 with value: 0.9420983583306741.\n",
            "[I 2025-06-17 14:45:24,873] Trial 9 finished with value: 0.9368133924550085 and parameters: {'n_estimators': 751, 'max_depth': 21, 'min_samples_split': 2, 'min_samples_leaf': 6, 'bootstrap': True}. Best is trial 7 with value: 0.9420983583306741.\n",
            "[I 2025-06-17 14:45:25,494] Trial 10 finished with value: 0.9252788551205319 and parameters: {'n_estimators': 124, 'max_depth': 3, 'min_samples_split': 3, 'min_samples_leaf': 1, 'bootstrap': False}. Best is trial 7 with value: 0.9420983583306741.\n",
            "[I 2025-06-17 14:45:27,345] Trial 11 finished with value: 0.9422690760312431 and parameters: {'n_estimators': 325, 'max_depth': 13, 'min_samples_split': 7, 'min_samples_leaf': 1, 'bootstrap': True}. Best is trial 11 with value: 0.9422690760312431.\n",
            "[I 2025-06-17 14:45:28,986] Trial 12 finished with value: 0.9408667084326351 and parameters: {'n_estimators': 304, 'max_depth': 11, 'min_samples_split': 8, 'min_samples_leaf': 1, 'bootstrap': False}. Best is trial 11 with value: 0.9422690760312431.\n",
            "[I 2025-06-17 14:45:30,644] Trial 13 finished with value: 0.9378933204155229 and parameters: {'n_estimators': 291, 'max_depth': 11, 'min_samples_split': 6, 'min_samples_leaf': 2, 'bootstrap': True}. Best is trial 11 with value: 0.9422690760312431.\n",
            "[I 2025-06-17 14:45:33,653] Trial 14 finished with value: 0.9396467550073374 and parameters: {'n_estimators': 377, 'max_depth': 21, 'min_samples_split': 4, 'min_samples_leaf': 2, 'bootstrap': True}. Best is trial 11 with value: 0.9422690760312431.\n",
            "[I 2025-06-17 14:45:34,523] Trial 15 finished with value: 0.9389310344594873 and parameters: {'n_estimators': 162, 'max_depth': 7, 'min_samples_split': 7, 'min_samples_leaf': 3, 'bootstrap': False}. Best is trial 11 with value: 0.9422690760312431.\n",
            "[I 2025-06-17 14:45:36,702] Trial 16 finished with value: 0.9365681359584342 and parameters: {'n_estimators': 432, 'max_depth': 14, 'min_samples_split': 5, 'min_samples_leaf': 7, 'bootstrap': True}. Best is trial 11 with value: 0.9422690760312431.\n",
            "[I 2025-06-17 14:45:38,200] Trial 17 finished with value: 0.9419268313385961 and parameters: {'n_estimators': 237, 'max_depth': 18, 'min_samples_split': 8, 'min_samples_leaf': 1, 'bootstrap': False}. Best is trial 11 with value: 0.9422690760312431.\n",
            "[I 2025-06-17 14:45:42,925] Trial 18 finished with value: 0.9394068524892609 and parameters: {'n_estimators': 957, 'max_depth': 8, 'min_samples_split': 3, 'min_samples_leaf': 3, 'bootstrap': True}. Best is trial 11 with value: 0.9422690760312431.\n",
            "[I 2025-06-17 14:45:46,411] Trial 19 finished with value: 0.9383212193666659 and parameters: {'n_estimators': 474, 'max_depth': 25, 'min_samples_split': 6, 'min_samples_leaf': 3, 'bootstrap': False}. Best is trial 11 with value: 0.9422690760312431.\n",
            "[I 2025-06-17 14:45:49,360] Trial 20 finished with value: 0.9366597902698985 and parameters: {'n_estimators': 632, 'max_depth': 13, 'min_samples_split': 10, 'min_samples_leaf': 6, 'bootstrap': False}. Best is trial 11 with value: 0.9422690760312431.\n",
            "[I 2025-06-17 14:45:50,960] Trial 21 finished with value: 0.9437596657757862 and parameters: {'n_estimators': 269, 'max_depth': 18, 'min_samples_split': 8, 'min_samples_leaf': 1, 'bootstrap': False}. Best is trial 21 with value: 0.9437596657757862.\n",
            "[I 2025-06-17 14:45:52,275] Trial 22 finished with value: 0.9443809840308601 and parameters: {'n_estimators': 213, 'max_depth': 20, 'min_samples_split': 8, 'min_samples_leaf': 1, 'bootstrap': False}. Best is trial 22 with value: 0.9443809840308601.\n",
            "[I 2025-06-17 14:45:53,428] Trial 23 finished with value: 0.9414606422279057 and parameters: {'n_estimators': 184, 'max_depth': 20, 'min_samples_split': 8, 'min_samples_leaf': 2, 'bootstrap': False}. Best is trial 22 with value: 0.9443809840308601.\n",
            "[I 2025-06-17 14:45:55,648] Trial 24 finished with value: 0.9425786076319884 and parameters: {'n_estimators': 339, 'max_depth': 24, 'min_samples_split': 9, 'min_samples_leaf': 1, 'bootstrap': False}. Best is trial 22 with value: 0.9443809840308601.\n",
            "[I 2025-06-17 14:45:56,569] A new study created in memory with name: no-name-bda59b00-efaf-4878-be1c-91b86eab1df4\n",
            "[I 2025-06-17 14:45:59,148] Trial 0 finished with value: 0.9351806565405415 and parameters: {'n_estimators': 555, 'max_depth': 29, 'min_samples_split': 6, 'min_samples_leaf': 9, 'bootstrap': False}. Best is trial 0 with value: 0.9351806565405415.\n",
            "[I 2025-06-17 14:46:00,651] Trial 1 finished with value: 0.9381464394758381 and parameters: {'n_estimators': 265, 'max_depth': 29, 'min_samples_split': 6, 'min_samples_leaf': 4, 'bootstrap': True}. Best is trial 1 with value: 0.9381464394758381.\n",
            "[I 2025-06-17 14:46:05,700] Trial 2 finished with value: 0.9414467526663434 and parameters: {'n_estimators': 895, 'max_depth': 23, 'min_samples_split': 6, 'min_samples_leaf': 2, 'bootstrap': False}. Best is trial 2 with value: 0.9414467526663434.\n",
            "[I 2025-06-17 14:46:08,414] Trial 3 finished with value: 0.9335932562909397 and parameters: {'n_estimators': 442, 'max_depth': 9, 'min_samples_split': 6, 'min_samples_leaf': 10, 'bootstrap': False}. Best is trial 2 with value: 0.9414467526663434.\n",
            "[I 2025-06-17 14:46:09,607] Trial 4 finished with value: 0.9348389378292539 and parameters: {'n_estimators': 216, 'max_depth': 28, 'min_samples_split': 3, 'min_samples_leaf': 9, 'bootstrap': True}. Best is trial 2 with value: 0.9414467526663434.\n",
            "[I 2025-06-17 14:46:12,741] Trial 5 finished with value: 0.9418355285376562 and parameters: {'n_estimators': 639, 'max_depth': 9, 'min_samples_split': 3, 'min_samples_leaf': 3, 'bootstrap': False}. Best is trial 5 with value: 0.9418355285376562.\n",
            "[I 2025-06-17 14:46:14,945] Trial 6 finished with value: 0.9335786116331017 and parameters: {'n_estimators': 419, 'max_depth': 27, 'min_samples_split': 4, 'min_samples_leaf': 7, 'bootstrap': True}. Best is trial 5 with value: 0.9418355285376562.\n",
            "[I 2025-06-17 14:46:20,671] Trial 7 finished with value: 0.9416976194527598 and parameters: {'n_estimators': 969, 'max_depth': 26, 'min_samples_split': 4, 'min_samples_leaf': 4, 'bootstrap': False}. Best is trial 5 with value: 0.9418355285376562.\n",
            "[I 2025-06-17 14:46:24,618] Trial 8 finished with value: 0.935667955381451 and parameters: {'n_estimators': 846, 'max_depth': 12, 'min_samples_split': 6, 'min_samples_leaf': 8, 'bootstrap': False}. Best is trial 5 with value: 0.9418355285376562.\n",
            "[I 2025-06-17 14:46:28,361] Trial 9 finished with value: 0.9341404601793993 and parameters: {'n_estimators': 769, 'max_depth': 26, 'min_samples_split': 8, 'min_samples_leaf': 7, 'bootstrap': True}. Best is trial 5 with value: 0.9418355285376562.\n",
            "[I 2025-06-17 14:46:31,063] Trial 10 finished with value: 0.9235221429641722 and parameters: {'n_estimators': 649, 'max_depth': 3, 'min_samples_split': 2, 'min_samples_leaf': 1, 'bootstrap': False}. Best is trial 5 with value: 0.9418355285376562.\n",
            "[I 2025-06-17 14:46:36,274] Trial 11 finished with value: 0.9416976194527598 and parameters: {'n_estimators': 984, 'max_depth': 20, 'min_samples_split': 4, 'min_samples_leaf': 4, 'bootstrap': False}. Best is trial 5 with value: 0.9418355285376562.\n",
            "[I 2025-06-17 14:46:39,900] Trial 12 finished with value: 0.9416976194527598 and parameters: {'n_estimators': 692, 'max_depth': 16, 'min_samples_split': 2, 'min_samples_leaf': 4, 'bootstrap': False}. Best is trial 5 with value: 0.9418355285376562.\n",
            "[I 2025-06-17 14:46:44,851] Trial 13 finished with value: 0.9391409141646802 and parameters: {'n_estimators': 968, 'max_depth': 6, 'min_samples_split': 10, 'min_samples_leaf': 3, 'bootstrap': False}. Best is trial 5 with value: 0.9418355285376562.\n",
            "[I 2025-06-17 14:46:47,638] Trial 14 finished with value: 0.9379778563872989 and parameters: {'n_estimators': 562, 'max_depth': 14, 'min_samples_split': 4, 'min_samples_leaf': 6, 'bootstrap': False}. Best is trial 5 with value: 0.9418355285376562.\n",
            "[I 2025-06-17 14:46:49,623] Trial 15 finished with value: 0.9398176557878949 and parameters: {'n_estimators': 378, 'max_depth': 21, 'min_samples_split': 3, 'min_samples_leaf': 5, 'bootstrap': False}. Best is trial 5 with value: 0.9418355285376562.\n",
            "[I 2025-06-17 14:46:50,441] Trial 16 finished with value: 0.9428976575578444 and parameters: {'n_estimators': 128, 'max_depth': 10, 'min_samples_split': 8, 'min_samples_leaf': 1, 'bootstrap': False}. Best is trial 16 with value: 0.9428976575578444.\n",
            "[I 2025-06-17 14:46:51,149] Trial 17 finished with value: 0.9429698245981962 and parameters: {'n_estimators': 117, 'max_depth': 8, 'min_samples_split': 8, 'min_samples_leaf': 1, 'bootstrap': False}. Best is trial 17 with value: 0.9429698245981962.\n",
            "[I 2025-06-17 14:46:51,855] Trial 18 finished with value: 0.9422877303828266 and parameters: {'n_estimators': 103, 'max_depth': 10, 'min_samples_split': 8, 'min_samples_leaf': 1, 'bootstrap': True}. Best is trial 17 with value: 0.9429698245981962.\n",
            "[I 2025-06-17 14:46:52,443] Trial 19 finished with value: 0.9365753031946054 and parameters: {'n_estimators': 106, 'max_depth': 5, 'min_samples_split': 8, 'min_samples_leaf': 2, 'bootstrap': False}. Best is trial 17 with value: 0.9429698245981962.\n",
            "[I 2025-06-17 14:46:53,712] Trial 20 finished with value: 0.9414320339092977 and parameters: {'n_estimators': 201, 'max_depth': 7, 'min_samples_split': 10, 'min_samples_leaf': 1, 'bootstrap': False}. Best is trial 17 with value: 0.9429698245981962.\n",
            "[I 2025-06-17 14:46:54,859] Trial 21 finished with value: 0.9410873767396466 and parameters: {'n_estimators': 120, 'max_depth': 12, 'min_samples_split': 8, 'min_samples_leaf': 1, 'bootstrap': True}. Best is trial 17 with value: 0.9429698245981962.\n",
            "[I 2025-06-17 14:46:56,556] Trial 22 finished with value: 0.9394068091941676 and parameters: {'n_estimators': 301, 'max_depth': 11, 'min_samples_split': 9, 'min_samples_leaf': 2, 'bootstrap': True}. Best is trial 17 with value: 0.9429698245981962.\n",
            "[I 2025-06-17 14:46:57,624] Trial 23 finished with value: 0.9434566062079957 and parameters: {'n_estimators': 168, 'max_depth': 15, 'min_samples_split': 7, 'min_samples_leaf': 1, 'bootstrap': True}. Best is trial 23 with value: 0.9434566062079957.\n",
            "[I 2025-06-17 14:46:58,778] Trial 24 finished with value: 0.9416374525325325 and parameters: {'n_estimators': 188, 'max_depth': 17, 'min_samples_split': 7, 'min_samples_leaf': 2, 'bootstrap': True}. Best is trial 23 with value: 0.9434566062079957.\n"
          ]
        },
        {
          "output_type": "stream",
          "name": "stdout",
          "text": [
            "Nested CV F1-score: 0.9405 ± 0.0070\n"
          ]
        }
      ]
    },
    {
      "cell_type": "markdown",
      "source": [
        "#Nested CV Results and Critical Reflection\n",
        "\n",
        "- The nested cross-validation yielded an F1-score of 0.9405 ± 0.0070, which at first glance suggests that the model is highly predictive.\n",
        "\n",
        "- However, a **critical oversight** was identified: the class_weight='balanced' parameter was not included during Optuna’s hyperparameter tuning. Given the class imbalance in the dataset, this likely skewed the model to favor the majority class, resulting in an overly optimistic F1-score.\n",
        "\n",
        "- While nested cross-validation is widely regarded as one of the most robust techniques for model evaluation—helping avoid data leakage and overfitting—its effectiveness depends on correctly modeling the real-world data context, including handling class imbalance. In this case, its estimate was less realistic because the model was not class-balanced during tuning.\n",
        "\n",
        "- **I had initially assumed that using StratifiedKFold alone would mitigate the imbalance.** But this experience clearly highlights that incorporating class_weight='balanced' is crucial throughout the entire modeling pipeline, including tuning and validation. This realization was an important learning point and led to improved downstream performance when class balancing was applied consistently."
      ],
      "metadata": {
        "id": "vpwWlEkjEdjV"
      }
    },
    {
      "cell_type": "markdown",
      "source": [
        "#Final Model Training with Class Weighting Considered\n",
        "\n",
        "- To address the limitations of the nested cross-validation approach, I now explicitly handle the class imbalance during model training and evaluation.\n",
        "\n",
        "- I perform an 80/20 train-test split using stratification to maintain the original class ratio in both training and test sets. This helps ensure that the minority class is well represented in both subsets.\n",
        "\n",
        "#Optuna for Hyperparameter Optimization\n",
        "\n",
        "I define an objective function to guide Optuna's hyperparameter search for the RandomForestClassifier. A 5-fold StratifiedKFold cross-validation is used for internal scoring, optimizing the F1-score—a metric well-suited for imbalanced classification problems.\n",
        "\n",
        "#Best Model Selection\n",
        "\n",
        "After running 25 trials of optimization, the best hyperparameters are selected:"
      ],
      "metadata": {
        "id": "H6Hu7tLsEnaQ"
      }
    },
    {
      "cell_type": "code",
      "source": [
        "from sklearn.model_selection import train_test_split, StratifiedKFold, cross_val_score\n",
        "from sklearn.metrics import f1_score, classification_report\n",
        "\n",
        "X_train, X_test, y_train, y_test = train_test_split(X, y, stratify=y, test_size=0.2, random_state=42)\n",
        "\n",
        "def objective(trial):\n",
        "    model = RandomForestClassifier(\n",
        "        n_estimators=trial.suggest_int(\"n_estimators\", 100, 500),\n",
        "        max_depth=trial.suggest_int(\"max_depth\", 5, 30),\n",
        "        min_samples_split=trial.suggest_int(\"min_samples_split\", 2, 10),\n",
        "        min_samples_leaf=trial.suggest_int(\"min_samples_leaf\", 1, 5),\n",
        "        max_features=trial.suggest_categorical(\"max_features\", [\"sqrt\", \"log2\", None]),\n",
        "        random_state=42,\n",
        "        n_jobs=-1\n",
        "    )\n",
        "\n",
        "    cv = StratifiedKFold(n_splits=5, shuffle=True, random_state=42)\n",
        "    f1 = cross_val_score(model, X_train, y_train, cv=cv, scoring=\"f1\", n_jobs=-1).mean()\n",
        "    return f1\n",
        "\n",
        "study = optuna.create_study(direction=\"maximize\")\n",
        "study.optimize(objective, n_trials=25)\n",
        "\n",
        "best_params = study.best_params\n",
        "best_model = RandomForestClassifier(**best_params, random_state=42, n_jobs=-1, class_weight='balanced')\n",
        "best_model.fit(X_train, y_train)\n",
        "\n",
        "y_pred = best_model.predict(X_test)\n",
        "final_f1 = f1_score(y_test, y_pred)\n",
        "\n",
        "print(\"Best Hyperparameters:\", best_params)\n",
        "print(\"F1 Score on Test Set:\", final_f1)\n",
        "print(\"Classification report on Test Set:\", classification_report(y_test, y_pred))\n",
        "print(\"Feature Importances:\", best_model.feature_importances_)"
      ],
      "metadata": {
        "colab": {
          "base_uri": "https://localhost:8080/"
        },
        "id": "t1nArWGvarfT",
        "outputId": "2475848f-89e8-4182-c8a5-2fd046f7b4df"
      },
      "execution_count": null,
      "outputs": [
        {
          "output_type": "stream",
          "name": "stderr",
          "text": [
            "[I 2025-06-18 09:36:26,630] A new study created in memory with name: no-name-93fd20ac-50b8-4b17-aeb5-65b9301b7c33\n",
            "[I 2025-06-18 09:36:34,413] Trial 0 finished with value: 0.9373497979199634 and parameters: {'n_estimators': 364, 'max_depth': 27, 'min_samples_split': 4, 'min_samples_leaf': 4, 'max_features': 'sqrt'}. Best is trial 0 with value: 0.9373497979199634.\n",
            "[I 2025-06-18 09:36:39,029] Trial 1 finished with value: 0.9368241997228463 and parameters: {'n_estimators': 291, 'max_depth': 20, 'min_samples_split': 5, 'min_samples_leaf': 5, 'max_features': 'sqrt'}. Best is trial 0 with value: 0.9373497979199634.\n",
            "[I 2025-06-18 09:36:41,931] Trial 2 finished with value: 0.9365094517116056 and parameters: {'n_estimators': 266, 'max_depth': 7, 'min_samples_split': 6, 'min_samples_leaf': 3, 'max_features': 'sqrt'}. Best is trial 0 with value: 0.9373497979199634.\n",
            "[I 2025-06-18 09:37:08,826] Trial 3 finished with value: 0.9329872351744852 and parameters: {'n_estimators': 392, 'max_depth': 6, 'min_samples_split': 4, 'min_samples_leaf': 5, 'max_features': None}. Best is trial 0 with value: 0.9373497979199634.\n",
            "[I 2025-06-18 09:37:13,497] Trial 4 finished with value: 0.9371265550841308 and parameters: {'n_estimators': 492, 'max_depth': 24, 'min_samples_split': 3, 'min_samples_leaf': 3, 'max_features': 'log2'}. Best is trial 0 with value: 0.9373497979199634.\n",
            "[I 2025-06-18 09:37:36,513] Trial 5 finished with value: 0.9363055365455297 and parameters: {'n_estimators': 169, 'max_depth': 29, 'min_samples_split': 6, 'min_samples_leaf': 2, 'max_features': None}. Best is trial 0 with value: 0.9373497979199634.\n",
            "[I 2025-06-18 09:38:15,617] Trial 6 finished with value: 0.9356042821798978 and parameters: {'n_estimators': 395, 'max_depth': 18, 'min_samples_split': 10, 'min_samples_leaf': 4, 'max_features': None}. Best is trial 0 with value: 0.9373497979199634.\n",
            "[I 2025-06-18 09:38:20,353] Trial 7 finished with value: 0.9374165196027544 and parameters: {'n_estimators': 410, 'max_depth': 17, 'min_samples_split': 9, 'min_samples_leaf': 4, 'max_features': 'sqrt'}. Best is trial 7 with value: 0.9374165196027544.\n",
            "[I 2025-06-18 09:38:38,091] Trial 8 finished with value: 0.9342785811035774 and parameters: {'n_estimators': 216, 'max_depth': 7, 'min_samples_split': 6, 'min_samples_leaf': 4, 'max_features': None}. Best is trial 7 with value: 0.9374165196027544.\n",
            "[I 2025-06-18 09:38:39,781] Trial 9 finished with value: 0.9399120012391009 and parameters: {'n_estimators': 154, 'max_depth': 24, 'min_samples_split': 3, 'min_samples_leaf': 2, 'max_features': 'log2'}. Best is trial 9 with value: 0.9399120012391009.\n",
            "[I 2025-06-18 09:38:41,001] Trial 10 finished with value: 0.9429266082023874 and parameters: {'n_estimators': 101, 'max_depth': 13, 'min_samples_split': 2, 'min_samples_leaf': 1, 'max_features': 'log2'}. Best is trial 10 with value: 0.9429266082023874.\n",
            "[I 2025-06-18 09:38:42,288] Trial 11 finished with value: 0.9434791880383084 and parameters: {'n_estimators': 107, 'max_depth': 13, 'min_samples_split': 2, 'min_samples_leaf': 1, 'max_features': 'log2'}. Best is trial 11 with value: 0.9434791880383084.\n",
            "[I 2025-06-18 09:38:43,671] Trial 12 finished with value: 0.9428346764572408 and parameters: {'n_estimators': 116, 'max_depth': 14, 'min_samples_split': 2, 'min_samples_leaf': 1, 'max_features': 'log2'}. Best is trial 11 with value: 0.9434791880383084.\n",
            "[I 2025-06-18 09:38:44,956] Trial 13 finished with value: 0.9439578636407155 and parameters: {'n_estimators': 105, 'max_depth': 12, 'min_samples_split': 2, 'min_samples_leaf': 1, 'max_features': 'log2'}. Best is trial 13 with value: 0.9439578636407155.\n",
            "[I 2025-06-18 09:38:47,519] Trial 14 finished with value: 0.9416622208713292 and parameters: {'n_estimators': 216, 'max_depth': 11, 'min_samples_split': 2, 'min_samples_leaf': 1, 'max_features': 'log2'}. Best is trial 13 with value: 0.9439578636407155.\n",
            "[I 2025-06-18 09:38:50,062] Trial 15 finished with value: 0.9357617287389969 and parameters: {'n_estimators': 179, 'max_depth': 10, 'min_samples_split': 8, 'min_samples_leaf': 2, 'max_features': 'log2'}. Best is trial 13 with value: 0.9439578636407155.\n",
            "[I 2025-06-18 09:38:52,534] Trial 16 finished with value: 0.9414823529989798 and parameters: {'n_estimators': 231, 'max_depth': 15, 'min_samples_split': 4, 'min_samples_leaf': 1, 'max_features': 'log2'}. Best is trial 13 with value: 0.9439578636407155.\n",
            "[I 2025-06-18 09:38:53,960] Trial 17 finished with value: 0.9374519931593184 and parameters: {'n_estimators': 135, 'max_depth': 10, 'min_samples_split': 8, 'min_samples_leaf': 2, 'max_features': 'log2'}. Best is trial 13 with value: 0.9439578636407155.\n",
            "[I 2025-06-18 09:38:57,528] Trial 18 finished with value: 0.9426100681840397 and parameters: {'n_estimators': 324, 'max_depth': 22, 'min_samples_split': 3, 'min_samples_leaf': 1, 'max_features': 'log2'}. Best is trial 13 with value: 0.9439578636407155.\n",
            "[I 2025-06-18 09:38:59,546] Trial 19 finished with value: 0.9365210775840558 and parameters: {'n_estimators': 190, 'max_depth': 17, 'min_samples_split': 5, 'min_samples_leaf': 3, 'max_features': 'log2'}. Best is trial 13 with value: 0.9439578636407155.\n",
            "[I 2025-06-18 09:39:04,783] Trial 20 finished with value: 0.9372595982256818 and parameters: {'n_estimators': 257, 'max_depth': 12, 'min_samples_split': 2, 'min_samples_leaf': 2, 'max_features': 'log2'}. Best is trial 13 with value: 0.9439578636407155.\n",
            "[I 2025-06-18 09:39:06,329] Trial 21 finished with value: 0.9433904877541908 and parameters: {'n_estimators': 107, 'max_depth': 14, 'min_samples_split': 2, 'min_samples_leaf': 1, 'max_features': 'log2'}. Best is trial 13 with value: 0.9439578636407155.\n",
            "[I 2025-06-18 09:39:07,862] Trial 22 finished with value: 0.9412996815391652 and parameters: {'n_estimators': 103, 'max_depth': 9, 'min_samples_split': 3, 'min_samples_leaf': 1, 'max_features': 'log2'}. Best is trial 13 with value: 0.9439578636407155.\n",
            "[I 2025-06-18 09:39:10,135] Trial 23 finished with value: 0.9426082982932581 and parameters: {'n_estimators': 136, 'max_depth': 15, 'min_samples_split': 2, 'min_samples_leaf': 1, 'max_features': 'log2'}. Best is trial 13 with value: 0.9439578636407155.\n",
            "[I 2025-06-18 09:39:11,747] Trial 24 finished with value: 0.9384223889233562 and parameters: {'n_estimators': 145, 'max_depth': 13, 'min_samples_split': 3, 'min_samples_leaf': 2, 'max_features': 'log2'}. Best is trial 13 with value: 0.9439578636407155.\n"
          ]
        },
        {
          "output_type": "stream",
          "name": "stdout",
          "text": [
            "Best Hyperparameters: {'n_estimators': 105, 'max_depth': 12, 'min_samples_split': 2, 'min_samples_leaf': 1, 'max_features': 'log2'}\n",
            "F1 Score on Test Set: 0.9432098765432099\n",
            "Classification report on Test Set:               precision    recall  f1-score   support\n",
            "\n",
            "           0       0.71      0.79      0.75        43\n",
            "           1       0.95      0.93      0.94       205\n",
            "\n",
            "    accuracy                           0.91       248\n",
            "   macro avg       0.83      0.86      0.85       248\n",
            "weighted avg       0.91      0.91      0.91       248\n",
            "\n",
            "Feature Importances: [1.29741516e-02 1.55628191e-02 6.56149059e-03 ... 9.57726397e-05\n",
            " 1.65778778e-03 4.16164596e-04]\n"
          ]
        }
      ]
    },
    {
      "cell_type": "markdown",
      "source": [
        "#Final Model Performance (with class_weight='balanced')\n",
        "\n",
        "After tuning hyperparameters and incorporating class_weight='balanced' to address class imbalance, the final model was evaluated on the test set:\n",
        "\n",
        "- Metric\t  Class 0 (Inactive)\t    Class 1 (Active)\n",
        "Precision\n",
        "       0.71\t                   0.95\n",
        "Recall\n",
        "       0.79\t                    0.93\n",
        "F1-score\n",
        "       0.75\t                     0.94\n",
        "Support\n",
        "       43\t                        205\n",
        "\n",
        "\n",
        "\n",
        "Overall Accuracy: 91%\n",
        "\n",
        "Macro Avg F1-score: 0.85\n",
        "\n",
        "Weighted Avg F1-score: 0.91\n",
        "\n",
        "#Interpretation for metrics:\n",
        "\n",
        "The model now performs much more fairly across both classes.\n",
        "\n",
        "Even the minority class (inactive compounds) achieves a respectable F1-score of 0.75, indicating that the model is no longer biased towards the majority class.\n",
        "\n",
        "This improvement validates the use of class_weight=\"balanced\" as a crucial step in real-world bioactivity prediction tasks.\n",
        "\n",
        "#Interpretation for the Classifier:\n",
        "\n",
        "The best hyperparameters obtained through Optuna tuning were: {\n",
        "  'n_estimators': 105,\n",
        "  'max_depth': 12,\n",
        "  'min_samples_split': 2,\n",
        "  'min_samples_leaf': 1,\n",
        "  'max_features': 'log2'\n",
        "}\n",
        "\n",
        "#These settings provide several insights into how the model is making decisions:\n",
        "\n",
        "- **max_features='log2'**: Instead of using all 1028 features at each split, the model selects a logarithmic subset, helping to reduce overfitting and introducing beneficial randomness across trees. This also means not all features are evaluated in every tree, which is computationally efficient and promotes feature diversity.\n",
        "\n",
        "- **max_depth=12 with min_samples_split=2 and min_samples_leaf=1**: These values allow for very deep and detailed trees, capable of capturing intricate patterns in the data. Such configurations suggest the model is building dense trees with high capacity to fit complex structures, which is something especially useful in molecular data with rich substructure information.\n",
        "\n",
        "- **n_estimators=105**: A relatively moderate number of trees was enough to achieve strong performance, indicating that the model converged quickly and didn’t need an excessively large ensemble.\n",
        "\n",
        "Overall, these hyperparameters reflect a model that is structurally complex but efficiently optimized, balancing depth and feature randomness to generalize well across a challenging, imbalanced dataset."
      ],
      "metadata": {
        "id": "ZA8pykPfGl6s"
      }
    },
    {
      "cell_type": "code",
      "source": [
        "import matplotlib.pyplot as plt"
      ],
      "metadata": {
        "id": "4D_dEa0yiZlP"
      },
      "execution_count": null,
      "outputs": []
    },
    {
      "cell_type": "code",
      "source": [
        "from sklearn.metrics import ConfusionMatrixDisplay, confusion_matrix\n",
        "\n",
        "cm = confusion_matrix(y_test, best_model.predict(X_test))\n",
        "disp = ConfusionMatrixDisplay(confusion_matrix=cm, display_labels=[\"Inactive\", \"Active\"])\n",
        "disp.plot(cmap=plt.cm.Blues)\n",
        "plt.title(\"Confusion Matrix\")\n",
        "plt.show();"
      ],
      "metadata": {
        "colab": {
          "base_uri": "https://localhost:8080/",
          "height": 472
        },
        "id": "5DHF_TtPkhUr",
        "outputId": "9ab29317-7239-4f08-ad87-a50c58ed91b6"
      },
      "execution_count": null,
      "outputs": [
        {
          "output_type": "display_data",
          "data": {
            "text/plain": [
              "<Figure size 640x480 with 2 Axes>"
            ],
            "image/png": "[encoded data removed]"
          },
          "metadata": {}
        }
      ]
    },
    {
      "cell_type": "markdown",
      "source": [
        "#Confusion Matrix Interpretation\n",
        "\n",
        "- True Positives (Active correctly predicted as Active): 191\n",
        "\n",
        "- True Negatives (Inactive correctly predicted as Inactive): 34\n",
        "\n",
        "- False Negatives (Active incorrectly predicted as Inactive): 14\n",
        "\n",
        "- False Positives (Inactive incorrectly predicted as Active): 9\n",
        "\n",
        "#Summary:\n",
        "\n",
        "- The model correctly classified 225 drugs.\n",
        "- However, 14 active compounds were missed, and 9 inactive compounds were falsely predicted as active.\n",
        "\n",
        "* Despite these errors, the model demonstrates strong generalization with balanced performance across both classes, thanks to class weighting and robust hyperparameter tuning."
      ],
      "metadata": {
        "id": "dOr2epEjHXzU"
      }
    },
    {
      "cell_type": "code",
      "source": [
        "original_columns = df.columns.drop(\"bioactivity_class\")\n",
        "\n",
        "importances = best_model.feature_importances_\n",
        "indices = np.argsort(importances)[-20:]\n",
        "top_features = original_columns[indices]\n",
        "top_importances = importances[indices]\n",
        "plt.figure(figsize=(10, 6))\n",
        "plt.barh(top_features, top_importances, color='skyblue')\n",
        "plt.title('Top 20 Feature Importances')\n",
        "plt.xlabel('Importance')\n",
        "plt.tight_layout()\n",
        "plt.show();"
      ],
      "metadata": {
        "colab": {
          "base_uri": "https://localhost:8080/",
          "height": 607
        },
        "id": "6JDcvveMiPWD",
        "outputId": "685bd367-3748-40fa-dbe0-c3b2325d8f16"
      },
      "execution_count": null,
      "outputs": [
        {
          "output_type": "display_data",
          "data": {
            "text/plain": [
              "<Figure size 1000x600 with 1 Axes>"
            ],
            "image/png": "[encoded data removed]"
          },
          "metadata": {}
        }
      ]
    },
    {
      "cell_type": "markdown",
      "source": [
        "#Feature Importance Analysis\n",
        "\n",
        "Among the top 20 most important features used by the Random Forest model:\n",
        "\n",
        "- LogP ranked 8th\n",
        "\n",
        "- Molecular Weight (MW) ranked 13th\n",
        "\n",
        "- The remaining 18 features were Morgan fingerprint bits, indicating that structural information derived from molecular topology played a dominant role in classification.\n",
        "\n",
        "#Insight:\n",
        "While physicochemical properties contributed meaningfully, molecular fingerprints were the primary drivers of predictive performance, highlighting the importance of substructural features in EGFR bioactivity prediction."
      ],
      "metadata": {
        "id": "amj0_uejH9lq"
      }
    },
    {
      "cell_type": "code",
      "source": [
        "from sklearn.model_selection import learning_curve\n",
        "\n",
        "train_sizes, train_scores, test_scores = learning_curve(\n",
        "    best_model, X_train, y_train, cv=5, scoring='f1', n_jobs=-1,\n",
        "    train_sizes=np.linspace(0.1, 1.0, 5), shuffle=True, random_state=42\n",
        ")\n",
        "\n",
        "train_scores_mean = np.mean(train_scores, axis=1)\n",
        "test_scores_mean = np.mean(test_scores, axis=1)\n",
        "\n",
        "plt.figure(figsize=(8, 5))\n",
        "plt.plot(train_sizes, train_scores_mean, 'o-', label=\"Training F1\")\n",
        "plt.plot(train_sizes, test_scores_mean, 'o-', label=\"Validation F1\")\n",
        "plt.title(\"Learning Curve\")\n",
        "plt.xlabel(\"Training Examples\")\n",
        "plt.ylabel(\"F1 Score\")\n",
        "plt.legend()\n",
        "plt.grid(True)\n",
        "plt.show();"
      ],
      "metadata": {
        "colab": {
          "base_uri": "https://localhost:8080/",
          "height": 487
        },
        "id": "IIux7rFAlBP5",
        "outputId": "b88b8f58-39c3-46ca-e65f-fc5264f8c8dc"
      },
      "execution_count": null,
      "outputs": [
        {
          "output_type": "display_data",
          "data": {
            "text/plain": [
              "<Figure size 800x500 with 1 Axes>"
            ],
            "image/png": "[encoded data removed]"
          },
          "metadata": {}
        }
      ]
    },
    {
      "cell_type": "markdown",
      "source": [
        "#Learning Curve Analysis\n",
        "A learning curve is a diagnostic tool that plots the model’s performance on the training and validation sets as the training dataset size increases. It helps assess:\n",
        "\n",
        "- Whether the model is overfitting (high training performance, low validation performance),\n",
        "\n",
        "- Underfitting (low performance on both), or\n",
        "\n",
        "- Well-generalized (high and close training and validation performance).\n",
        "\n",
        "#In this project:\n",
        "\n",
        "- The training F1-score levels off around 97%\n",
        "\n",
        "- The validation F1-score stabilizes near 92.5%\n",
        "\n",
        "#Interpretation\n",
        "These results indicate that the model:\n",
        "\n",
        "- Learns well from the data, as both training and validation scores are high.\n",
        "\n",
        "- Shows a small but healthy generalization gap (~4%), which is expected and suggests that the model is not overfitting.\n",
        "\n",
        "- Performs consistently across different training sizes, reinforcing the robustness of the chosen features and hyperparameters.\n",
        "\n",
        "#Conclusion:\n",
        "The learning curve confirms that the model is well-fitted and generalizes effectively, with strong predictive performance even when class imbalance and chemical diversity are taken into account."
      ],
      "metadata": {
        "id": "90MRg6DwIV1j"
      }
    },
    {
      "cell_type": "code",
      "source": [
        "from sklearn.metrics import roc_curve, auc\n",
        "\n",
        "y_proba = best_model.predict_proba(X_test)[:, 1]\n",
        "fpr, tpr, _ = roc_curve(y_test, y_proba)\n",
        "roc_auc = auc(fpr, tpr)\n",
        "\n",
        "plt.figure(figsize=(7, 5))\n",
        "plt.plot(fpr, tpr, label=f\"ROC Curve (AUC = {roc_auc:.2f})\")\n",
        "plt.plot([0, 1], [0, 1], 'k--')\n",
        "plt.xlabel(\"False Positive Rate\")\n",
        "plt.ylabel(\"True Positive Rate\")\n",
        "plt.title(\"ROC-AUC Curve\")\n",
        "plt.legend()\n",
        "plt.grid(True)\n",
        "plt.show();"
      ],
      "metadata": {
        "colab": {
          "base_uri": "https://localhost:8080/",
          "height": 487
        },
        "id": "SlZHetzMmb6u",
        "outputId": "ccf6391e-cadd-4596-8ebf-6a0b9372f8eb"
      },
      "execution_count": null,
      "outputs": [
        {
          "output_type": "display_data",
          "data": {
            "text/plain": [
              "<Figure size 700x500 with 1 Axes>"
            ],
            "image/png": "[encoded data removed]"
          },
          "metadata": {}
        }
      ]
    },
    {
      "cell_type": "markdown",
      "source": [
        "#ROC-AUC Curve Analysis\n",
        "The ROC (Receiver Operating Characteristic) curve is a plot that illustrates the true positive rate (sensitivity) against the false positive rate (1 - specificity) at various threshold settings.\n",
        "\n",
        "The AUC (Area Under Curve) summarizes this curve into a single value between 0 and 1, where:\n",
        "\n",
        "- 1.0 indicates a perfect classifier.\n",
        "\n",
        "- 0.5 suggests random guessing.\n",
        "\n",
        "- Anything greater than 0.9 is considered excellent.\n",
        "\n",
        "For my trained Random Forest model:\n",
        "\n",
        "- The AUC = 0.89, which means the model has a high ability to distinguish between active and inactive drugs.\n",
        "\n",
        "- This score further confirms the strong performance previously observed through the F1-score, confusion matrix, and learning curve.\n",
        "\n",
        "- Despite the class imbalance, the model maintains high discriminative power, thanks to effective tuning and class weighting."
      ],
      "metadata": {
        "id": "nFK8tI9iJmsC"
      }
    },
    {
      "cell_type": "markdown",
      "source": [
        "#**Final Evaluation & Reflections**\n",
        "\n",
        "- The final model, trained with class balancing and tuned hyperparameters, achieved a strong F1-score of 0.94 on the hold-out test set. With a recall of 0.93 for the active class and an F1-score of 0.75 for the inactive class, the model now performs much more fairly across both classes. The confusion matrix (TP=191, TN=34, FP=9, FN=14) also shows reduced bias compared to earlier versions.\n",
        "\n",
        "- These results reflect the critical importance of using class_weight='balanced' in both the tuning and evaluation phases. Initially, this was omitted during nested cross-validation, which led to over-optimistic performance. This experience highlighted that even robust tools like nested CV need to be carefully designed to reflect real-world settings, underscoring the value of thinking beyond metrics.\n",
        "\n",
        "#**Key Insights**\n",
        "\n",
        "- Fingerprint bits dominated the feature importance rankings, reaffirming the value of substructure-driven modeling in cheminformatics.\n",
        "\n",
        "- Physicochemical features like LogP and Molecular Weight still played significant roles, showing that combining structural and classical descriptors remains valuable.\n",
        "\n",
        "- Model interpretation not only improves trust but also helps identify molecular traits tied to activity—useful for downstream drug discovery efforts.\n",
        "\n",
        "#**Potential Future Work**\n",
        "\n",
        "- Integrate 3D descriptors or docking features for more nuanced modeling.\n",
        "\n",
        "- Investigate false positives and negatives to improve feature space or flag candidates for re-testing. (Currently, I lack the biological expertise to do this myself, but will surely try it out once I gain more experience with cheminformatics and drug design.)\n",
        "\n",
        "- A future version could incorporate regression modeling for intermediate bioactivity ranges (pIC50 6–7.5), enabling a hybrid classification-regression pipeline.\n",
        "\n",
        "\n",
        "**If anyone going through this notebook have any suggestions, ideas, or improvements, I would genuinely love to hear them. This is still a learning journey, a feedback would be incredibly valuable.**\n",
        "\n",
        "**Thank you for reading!** 🙏"
      ],
      "metadata": {
        "id": "3J2J-t62TLVo"
      }
    }
  ]
}
